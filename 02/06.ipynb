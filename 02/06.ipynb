{
 "cells": [
  {
   "cell_type": "code",
   "execution_count": 1,
   "metadata": {},
   "outputs": [
    {
     "name": "stdout",
     "output_type": "stream",
     "text": [
      "Введите числа: 10 15 15 103 200 200 200 1 1 1 1 1 2 2 2\n",
      "[1, 2, 15, 200]\n"
     ]
    }
   ],
   "source": [
    "lst = input('Введите числа: ')\n",
    "lst = lst.split()\n",
    "_lst = []\n",
    "\n",
    "for val in lst:\n",
    "    value = int(val)\n",
    "    if lst.count(str(value)) > 1:\n",
    "        _lst.append(value)\n",
    "\n",
    "_lst = list(set(_lst))\n",
    "\n",
    "print(sorted(_lst))"
   ]
  },
  {
   "cell_type": "code",
   "execution_count": null,
   "metadata": {},
   "outputs": [],
   "source": []
  }
 ],
 "metadata": {
  "kernelspec": {
   "display_name": "Python 3",
   "language": "python",
   "name": "python3"
  },
  "language_info": {
   "codemirror_mode": {
    "name": "ipython",
    "version": 3
   },
   "file_extension": ".py",
   "mimetype": "text/x-python",
   "name": "python",
   "nbconvert_exporter": "python",
   "pygments_lexer": "ipython3",
   "version": "3.8.5"
  }
 },
 "nbformat": 4,
 "nbformat_minor": 4
}
