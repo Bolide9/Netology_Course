{
 "cells": [
  {
   "cell_type": "code",
   "execution_count": 3,
   "metadata": {},
   "outputs": [
    {
     "name": "stdout",
     "output_type": "stream",
     "text": [
      "Средняя температура в странах: \n",
      "Thailand - 23.8 С\n",
      "Germany - 13.8 С\n",
      "Russia - 3.71 С\n",
      "Poland - 12.0 С\n"
     ]
    }
   ],
   "source": [
    "countries_temperature = [\n",
    "    ['Thailand', [75.2, 77, 78.8, 73.4, 68, 75.2, 77]],\n",
    "    ['Germany', [57.2, 55.4, 59, 59, 53.6]],\n",
    "    ['Russia', [35.6, 37.4, 39.2, 41, 42.8, 39.2, 35.6]],\n",
    "    ['Poland', [50, 50, 53.6, 57.2, 55.4, 55.4]]\n",
    "]\n",
    "\n",
    "avg_temp = {}\n",
    "\n",
    "\n",
    "def getC(fah: list):\n",
    "    cel = []\n",
    "\n",
    "    for val in fah:\n",
    "        cel.append((val - 32) / 1.8)\n",
    "\n",
    "    return str(sum(cel) / len(cel))[:4]\n",
    "\n",
    "\n",
    "for i in countries_temperature:\n",
    "    for j in range(len(i)):\n",
    "        avg_temp.update({i[0]: i[1]})\n",
    "\n",
    "\n",
    "print('Средняя температура в странах: ')\n",
    "for key, value in zip(avg_temp.keys(), avg_temp.values()):\n",
    "    print(f'{key} - {getC(value)} С')"
   ]
  },
  {
   "cell_type": "code",
   "execution_count": null,
   "metadata": {},
   "outputs": [],
   "source": []
  }
 ],
 "metadata": {
  "kernelspec": {
   "display_name": "Python 3",
   "language": "python",
   "name": "python3"
  },
  "language_info": {
   "codemirror_mode": {
    "name": "ipython",
    "version": 3
   },
   "file_extension": ".py",
   "mimetype": "text/x-python",
   "name": "python",
   "nbconvert_exporter": "python",
   "pygments_lexer": "ipython3",
   "version": "3.8.5"
  }
 },
 "nbformat": 4,
 "nbformat_minor": 4
}
