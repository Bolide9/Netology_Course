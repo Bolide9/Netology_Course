{
 "cells": [
  {
   "cell_type": "code",
   "execution_count": 1,
   "metadata": {},
   "outputs": [
    {
     "name": "stdout",
     "output_type": "stream",
     "text": [
      "Введите число:  1\n",
      "Введите число:  2\n",
      "Введите число:  3\n",
      "Введите число:  4\n",
      "Введите число:  5\n",
      "Введите число:  6\n",
      "Введите число:  7\n",
      "Введите число:  10\n",
      "Введите число:  0\n",
      "38\n"
     ]
    }
   ],
   "source": [
    "lst = []\n",
    "last = len(lst) - 1\n",
    "\n",
    "while True:\n",
    "    lst.append(int(input('Введите число:  ')))\n",
    "\n",
    "    if lst[last] == 0:\n",
    "        print(sum(lst))\n",
    "        break"
   ]
  },
  {
   "cell_type": "code",
   "execution_count": null,
   "metadata": {},
   "outputs": [],
   "source": []
  }
 ],
 "metadata": {
  "kernelspec": {
   "display_name": "Python 3",
   "language": "python",
   "name": "python3"
  },
  "language_info": {
   "codemirror_mode": {
    "name": "ipython",
    "version": 3
   },
   "file_extension": ".py",
   "mimetype": "text/x-python",
   "name": "python",
   "nbconvert_exporter": "python",
   "pygments_lexer": "ipython3",
   "version": "3.8.5"
  }
 },
 "nbformat": 4,
 "nbformat_minor": 4
}
