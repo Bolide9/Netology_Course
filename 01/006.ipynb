{
 "cells": [
  {
   "cell_type": "code",
   "execution_count": 5,
   "metadata": {},
   "outputs": [
    {
     "name": "stdout",
     "output_type": "stream",
     "text": [
      "Введите тип фигуры: Треугольник\n",
      "Введите длину стороны A: 2\n",
      "Введите длину стороны B: 2\n",
      "Введите длину стороны C: 3\n",
      "Площадь треугольника: 1.98\n"
     ]
    }
   ],
   "source": [
    "import math\n",
    "\n",
    "figure = input('Введите тип фигуры: ').strip().capitalize()\n",
    "\n",
    "if figure == 'Круг':\n",
    "    r = int(input('Введите радиус: '))\n",
    "    s = math.pi * (r * r)\n",
    "    print(f'Площадь круга: {s}')\n",
    "\n",
    "elif figure == 'Треугольник':\n",
    "    a = int(input('Введите длину стороны A: '))\n",
    "    b = int(input('Введите длину стороны B: '))\n",
    "    c = int(input('Введите длину стороны C: '))\n",
    "    p = (a + b + c) / 2\n",
    "    s = math.sqrt(p * (p-a) * (p-b) * (p-c))\n",
    "    print(f'Площадь треугольника: {str(s)[0:4]}')\n",
    "\n",
    "elif figure == 'Прямоугольник':\n",
    "    a = int(input('Введите длину стороны A: '))\n",
    "    b = int(input('Введите длину стороны B: '))\n",
    "    s = a * b\n",
    "    print(f'Площадь прямоугольника: {s}')"
   ]
  },
  {
   "cell_type": "code",
   "execution_count": null,
   "metadata": {},
   "outputs": [],
   "source": []
  }
 ],
 "metadata": {
  "kernelspec": {
   "display_name": "Python 3",
   "language": "python",
   "name": "python3"
  },
  "language_info": {
   "codemirror_mode": {
    "name": "ipython",
    "version": 3
   },
   "file_extension": ".py",
   "mimetype": "text/x-python",
   "name": "python",
   "nbconvert_exporter": "python",
   "pygments_lexer": "ipython3",
   "version": "3.8.5"
  }
 },
 "nbformat": 4,
 "nbformat_minor": 4
}
