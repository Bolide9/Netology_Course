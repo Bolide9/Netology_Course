{
 "cells": [
  {
   "cell_type": "code",
   "execution_count": null,
   "metadata": {},
   "outputs": [],
   "source": [
    "1. 'Что значит ошибка list index out of range?'\n",
    "\n",
    "Обращение к \"недопустимому\" индексу, т.е. к индексу которого нет в списке\n",
    "\n",
    "lst = [1, 2 ,3]\n",
    "print(lst[4]) # Ошибка\n",
    "\n",
    "2. 'Почему при первом запуске функция работает корректно, а при втором - нет?'\n",
    "\n",
    "При первом запуске: удаляется последний элемент и возвращается элемент с индексом 1\n",
    "\n",
    "При втором запуске: удаляется последний элемент и при попытке вернуть элемент с индексом 1, возникает ошибка, \n",
    "т.к. в списке остался только один элемент"
   ]
  }
 ],
 "metadata": {
  "kernelspec": {
   "display_name": "Python 3",
   "language": "python",
   "name": "python3"
  },
  "language_info": {
   "codemirror_mode": {
    "name": "ipython",
    "version": 3
   },
   "file_extension": ".py",
   "mimetype": "text/x-python",
   "name": "python",
   "nbconvert_exporter": "python",
   "pygments_lexer": "ipython3",
   "version": "3.8.5"
  }
 },
 "nbformat": 4,
 "nbformat_minor": 4
}
