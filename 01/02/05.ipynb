{
 "cells": [
  {
   "cell_type": "code",
   "execution_count": 1,
   "metadata": {},
   "outputs": [
    {
     "name": "stdout",
     "output_type": "stream",
     "text": [
      "145.33\n"
     ]
    }
   ],
   "source": [
    "stream = [\n",
    "    '2018-01-01,user100,150',\n",
    "    '2018-01-07,user99,205',\n",
    "    '2018-03-29,user1001,81'\n",
    "]\n",
    "\n",
    "users = []\n",
    "count = {}\n",
    "_count = 0\n",
    "\n",
    "for i in stream:\n",
    "    users.append(i.split(','))\n",
    "\n",
    "# for i in range(len(users)):\n",
    "#     if len(users) != i + 1:\n",
    "#         if users[i][1] == users[i + 1][1]:\n",
    "#             _count += int(users[i][2])\n",
    "#             count[users[i][1]] = _count\n",
    "#         else:\n",
    "#             _count += int(users[i][2])\n",
    "#             count[users[i][1]] = _count\n",
    "#             _count = 0\n",
    "#     else:\n",
    "#         _count += int(users[i][2])\n",
    "#         count[users[i][1]] = _count\n",
    "#         _count = 0\n",
    "\n",
    "\n",
    "for i in range(len(users)):\n",
    "    if users[i][1] not in count:\n",
    "        count[users[i][1]] = int(users[i][2])\n",
    "    else:\n",
    "        _count = int(count.get(users[i][1])) + int(users[i][2])\n",
    "        count.update({users[i][1]: _count})\n",
    "\n",
    "print(str(sum(count.values()) / len(count.values()))[:6])\n"
   ]
  },
  {
   "cell_type": "code",
   "execution_count": null,
   "metadata": {},
   "outputs": [],
   "source": []
  }
 ],
 "metadata": {
  "kernelspec": {
   "display_name": "Python 3",
   "language": "python",
   "name": "python3"
  },
  "language_info": {
   "codemirror_mode": {
    "name": "ipython",
    "version": 3
   },
   "file_extension": ".py",
   "mimetype": "text/x-python",
   "name": "python",
   "nbconvert_exporter": "python",
   "pygments_lexer": "ipython3",
   "version": "3.8.5"
  }
 },
 "nbformat": 4,
 "nbformat_minor": 4
}
