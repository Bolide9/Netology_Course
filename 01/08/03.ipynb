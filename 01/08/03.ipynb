{
 "cells": [
  {
   "cell_type": "code",
   "execution_count": 1,
   "metadata": {},
   "outputs": [
    {
     "name": "stdout",
     "output_type": "stream",
     "text": [
      "NFC\n"
     ]
    }
   ],
   "source": [
    "import re\n",
    "\n",
    "some_words = 'Near Field Communication'\n",
    "\n",
    "\n",
    "def get_acronym(_str):\n",
    "    text = ''\n",
    "\n",
    "    _str = re.findall(r'\\w+', some_words)\n",
    "\n",
    "    lst = [re.match(r'^\\w', i)[0] for i in _str]\n",
    "\n",
    "    for i in lst:\n",
    "        text += i\n",
    "\n",
    "    return text.upper()\n",
    "\n",
    "\n",
    "print(get_acronym(some_words))"
   ]
  },
  {
   "cell_type": "code",
   "execution_count": null,
   "metadata": {},
   "outputs": [],
   "source": []
  }
 ],
 "metadata": {
  "kernelspec": {
   "display_name": "Python 3",
   "language": "python",
   "name": "python3"
  },
  "language_info": {
   "codemirror_mode": {
    "name": "ipython",
    "version": 3
   },
   "file_extension": ".py",
   "mimetype": "text/x-python",
   "name": "python",
   "nbconvert_exporter": "python",
   "pygments_lexer": "ipython3",
   "version": "3.8.5"
  }
 },
 "nbformat": 4,
 "nbformat_minor": 4
}
