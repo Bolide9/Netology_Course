{
 "cells": [
  {
   "cell_type": "code",
   "execution_count": 1,
   "metadata": {},
   "outputs": [
    {
     "name": "stdout",
     "output_type": "stream",
     "text": [
      "Результат: Номер А222BС валиден. Регион: 96\n",
      "Результат: Номер не валиден\n",
      "Результат: Номер не валиден\n",
      "Результат: Номер не валиден\n",
      "Результат: Номер И223РР валиден. Регион: 455\n"
     ]
    }
   ],
   "source": [
    "import re\n",
    "\n",
    "car_id = 'А222BС96'\n",
    "car_id_2 = 'АБ22ВВ193'\n",
    "car_id_3 = 'ПБ22ВВ19'\n",
    "car_id_4 = 'ЛД22ВВ637'\n",
    "car_id_5 = 'И223РР455'\n",
    "\n",
    "lst = [car_id, car_id_2, car_id_3, car_id_4, car_id_5]\n",
    "\n",
    "\n",
    "def check_id(_car_id):\n",
    "    _is_valid_number = re.fullmatch(r'\\w\\d{3}\\w{2}\\d{2,3}', _car_id)\n",
    "\n",
    "    if _is_valid_number:\n",
    "        text = _is_valid_number.string\n",
    "\n",
    "        number = re.search(r'\\w\\d{3}\\w{2}', text)[0]\n",
    "        region = re.findall(r'\\d{2,3}$', text)[0]\n",
    "\n",
    "        return f'Результат: Номер {number} валиден. Регион: {region}'\n",
    "\n",
    "    return 'Результат: Номер не валиден'\n",
    "\n",
    "\n",
    "for i in lst:\n",
    "    print(check_id(i))"
   ]
  },
  {
   "cell_type": "code",
   "execution_count": null,
   "metadata": {},
   "outputs": [],
   "source": []
  }
 ],
 "metadata": {
  "kernelspec": {
   "display_name": "Python 3",
   "language": "python",
   "name": "python3"
  },
  "language_info": {
   "codemirror_mode": {
    "name": "ipython",
    "version": 3
   },
   "file_extension": ".py",
   "mimetype": "text/x-python",
   "name": "python",
   "nbconvert_exporter": "python",
   "pygments_lexer": "ipython3",
   "version": "3.8.5"
  }
 },
 "nbformat": 4,
 "nbformat_minor": 4
}
