{
 "cells": [
  {
   "cell_type": "code",
   "execution_count": 1,
   "metadata": {},
   "outputs": [
    {
     "name": "stdout",
     "output_type": "stream",
     "text": [
      "gmail.com: 2\n",
      "test.in: 1\n",
      "ya.ru: 2\n",
      "mail.ru: 1\n"
     ]
    }
   ],
   "source": [
    "import re\n",
    "\n",
    "lst = ['test@gmail.com', 'xyz.ddsadsa@test.in', 'dsds@ya.ru', 'xyz@mail.ru', 'xyz@ya.ru', 'xyz@gmail.com']\n",
    "\n",
    "\n",
    "def get_count_emails(_lst):\n",
    "    # Если подразумевается и валидация, то:\n",
    "    # _list = []\n",
    "    #\n",
    "    # for email in _lst:\n",
    "    #     if re.match(r\"[^@]+@[^@]+\\.[^@]+\", email):\n",
    "    #         _list.append(re.split(r'.*@', email)[1])\n",
    "\n",
    "    _list = [re.split(r'.*@', i)[1] for i in _lst]\n",
    "\n",
    "    _list = list(set([f'{i}: {_list.count(i)}' for i in _list]))\n",
    "\n",
    "    for i in _list:\n",
    "        print(i)\n",
    "\n",
    "\n",
    "get_count_emails(lst)"
   ]
  },
  {
   "cell_type": "code",
   "execution_count": null,
   "metadata": {},
   "outputs": [],
   "source": []
  }
 ],
 "metadata": {
  "kernelspec": {
   "display_name": "Python 3",
   "language": "python",
   "name": "python3"
  },
  "language_info": {
   "codemirror_mode": {
    "name": "ipython",
    "version": 3
   },
   "file_extension": ".py",
   "mimetype": "text/x-python",
   "name": "python",
   "nbconvert_exporter": "python",
   "pygments_lexer": "ipython3",
   "version": "3.8.5"
  }
 },
 "nbformat": 4,
 "nbformat_minor": 4
}
