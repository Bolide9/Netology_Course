{
 "cells": [
  {
   "cell_type": "code",
   "execution_count": null,
   "metadata": {},
   "outputs": [],
   "source": [
    "import requests as http\n",
    "\n",
    "\n",
    "class Rate:\n",
    "    def __init__(self, diff: bool):\n",
    "        self.diff = diff\n",
    "\n",
    "    def get_exchanges(self):\n",
    "        r = http.get('https://www.cbr-xml-daily.ru/daily_json.js')\n",
    "        return r.json()['Valute']\n",
    "\n",
    "    def get_max_value(self):\n",
    "        res = self.get_exchanges()\n",
    "\n",
    "        Currencies = {}\n",
    "\n",
    "        for currency in res:\n",
    "            Currencies.update({res[currency]['Name']: res[currency]['Value']})\n",
    "\n",
    "        max_value = max(Currencies, key=Currencies.get)\n",
    "        return max_value\n",
    "\n",
    "    def make_format(self, currency):\n",
    "        response = self.get_exchanges()\n",
    "\n",
    "        if currency in response:\n",
    "            if self.diff:\n",
    "                return response[currency]['Value'] - response[currency]['Previous']\n",
    "\n",
    "            if not self.diff:\n",
    "                return response[currency]\n",
    "\n",
    "        return 'error'\n",
    "\n",
    "    def eur(self):\n",
    "        return self.make_format('EUR')\n",
    "\n",
    "    def usd(self):\n",
    "        return self.make_format('USD')\n",
    "\n",
    "    def jpy(self):\n",
    "        return self.make_format('JPY')"
   ]
  }
 ],
 "metadata": {
  "kernelspec": {
   "display_name": "Python 3",
   "language": "python",
   "name": "python3"
  },
  "language_info": {
   "codemirror_mode": {
    "name": "ipython",
    "version": 3
   },
   "file_extension": ".py",
   "mimetype": "text/x-python",
   "name": "python",
   "nbconvert_exporter": "python",
   "pygments_lexer": "ipython3",
   "version": "3.8.5"
  }
 },
 "nbformat": 4,
 "nbformat_minor": 4
}
