{
 "cells": [
  {
   "cell_type": "code",
   "execution_count": null,
   "metadata": {},
   "outputs": [],
   "source": [
    "from Employee import Employee\n",
    "\n",
    "\n",
    "class Designer(Employee):\n",
    "    def __init__(self, name, experience, prize=2):\n",
    "        super().__init__(name, experience),\n",
    "        self.prize = prize\n",
    "\n",
    "    def check_for_upgrade(self):\n",
    "        self.seniority += 1\n",
    "\n",
    "        if self.seniority % 7 == 0:\n",
    "            self.grade_up()\n",
    "\n",
    "        return self.publish_grade()"
   ]
  }
 ],
 "metadata": {
  "kernelspec": {
   "display_name": "Python 3",
   "language": "python",
   "name": "python3"
  },
  "language_info": {
   "codemirror_mode": {
    "name": "ipython",
    "version": 3
   },
   "file_extension": ".py",
   "mimetype": "text/x-python",
   "name": "python",
   "nbconvert_exporter": "python",
   "pygments_lexer": "ipython3",
   "version": "3.8.5"
  }
 },
 "nbformat": 4,
 "nbformat_minor": 4
}
