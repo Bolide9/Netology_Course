{
 "cells": [
  {
   "cell_type": "code",
   "execution_count": 1,
   "metadata": {},
   "outputs": [
    {
     "name": "stdout",
     "output_type": "stream",
     "text": [
      "Введите день: 03\n",
      "Введите месяц: Февраль\n",
      "Ваш знак зодиака:Водолей\n"
     ]
    }
   ],
   "source": [
    "day = int(input('Введите день: '))\n",
    "month = input('Введите месяц: ')\n",
    "\n",
    "\n",
    "def get_month_index(_month):\n",
    "    months = ['Январь', 'Февраль', 'Март', 'Апрель', 'Май', 'Июнь', 'Июль', 'Август', 'Сентябрь', 'Октябрь', 'Ноябрь',\n",
    "              'Декабрь']\n",
    "    return months.index(_month) + 1\n",
    "\n",
    "\n",
    "def get_sign(day, month):\n",
    "    if (21 <= day <= 31 and month == 3) or (month == 4 and 1 <= day <= 19):\n",
    "        print(\"Ваш знак зодиака: Овен\")\n",
    "    elif (20 <= day <= 30 and month == 4) or (month == 5 and 1 <= day <= 20):\n",
    "        print(\"Ваш знак зодиака: Телец\")\n",
    "    elif (21 <= day <= 31 and month == 5) or (month == 6 and 1 <= day <= 21):\n",
    "        print(\"Ваш знак зодиака: Близнецы\")\n",
    "    elif (22 <= day <= 30 and month == 6) or (month == 7 and 1 <= day <= 22):\n",
    "        print(\"Ваш знак зодиака: Рак\")\n",
    "    elif (23 <= day <= 31 and month == 7) or (month == 8 and 1 <= day <= 22):\n",
    "        print(\"Ваш знак зодиака: Лев\")\n",
    "    elif (23 <= day <= 31 and month == 8) or (month == 9 and 1 <= day <= 22):\n",
    "        print(\"Ваш знак зодиака: Дева\")\n",
    "    elif (23 <= day <= 30 and month == 9) or (month == 10 and 1 <= day <= 23):\n",
    "        print(\"Ваш знак зодиака: Весы\")\n",
    "    elif (24 <= day <= 31 and month == 10) or (month == 11 and 1 <= day <= 22):\n",
    "        print(\"Ваш знак зодиака: Скорпион\")\n",
    "    elif (23 <= day <= 30 and month == 11) or (month == 12 and 1 <= day <= 21):\n",
    "        print(\"Ваш знак зодиака: Стрелец\")\n",
    "    elif (22 <= day <= 31 and month == 12) or (month == 1 and 1 <= day <= 20):\n",
    "        print(\"Ваш знак зодиака: Козерог\")\n",
    "    elif (21 <= day <= 31 and month == 1) or (month == 2 and 1 <= day <= 18):\n",
    "        print(\"Ваш знак зодиака:Водолей\")\n",
    "    elif (19 <= day <= 29 and month == 2) or (month == 3 and 1 <= day <= 20):\n",
    "        print(\"Ваш знак зодиака: Рыбы\")\n",
    "\n",
    "\n",
    "get_sign(day, get_month_index(month))"
   ]
  },
  {
   "cell_type": "code",
   "execution_count": null,
   "metadata": {},
   "outputs": [],
   "source": []
  }
 ],
 "metadata": {
  "kernelspec": {
   "display_name": "Python 3",
   "language": "python",
   "name": "python3"
  },
  "language_info": {
   "codemirror_mode": {
    "name": "ipython",
    "version": 3
   },
   "file_extension": ".py",
   "mimetype": "text/x-python",
   "name": "python",
   "nbconvert_exporter": "python",
   "pygments_lexer": "ipython3",
   "version": "3.8.5"
  }
 },
 "nbformat": 4,
 "nbformat_minor": 4
}
