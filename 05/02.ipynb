{
 "cells": [
  {
   "cell_type": "code",
   "execution_count": 2,
   "metadata": {},
   "outputs": [],
   "source": [
    "import json\n",
    "\n",
    "_visit_file = open('visit_log.csv', 'r', encoding=\"utf-8\")\n",
    "_purchase_file = open('purchase_log.txt', 'r', encoding=\"utf-8\")\n",
    "_funnel_file = open('funnel.csv', 'w')\n",
    "\n",
    "purchases = {}\n",
    "\n",
    "\n",
    "for line in _purchase_file:\n",
    "    _file = json.loads(line)\n",
    "\n",
    "    user_id = _file.get('user_id')\n",
    "    category = _file.get('category')\n",
    "\n",
    "    purchases[user_id] = category\n",
    "\n",
    "\n",
    "for line in _visit_file:\n",
    "    if line.strip().split(',')[0] in purchases.keys():\n",
    "        _funnel_file.write(str(line.strip() + ',' + purchases.get(line.strip().split(\",\")[0]) + '\\n'))\n",
    "\n",
    "\n",
    "_purchase_file.close()\n",
    "_visit_file.close()\n",
    "_funnel_file.close()"
   ]
  },
  {
   "cell_type": "code",
   "execution_count": null,
   "metadata": {},
   "outputs": [],
   "source": []
  },
  {
   "cell_type": "code",
   "execution_count": null,
   "metadata": {},
   "outputs": [],
   "source": []
  }
 ],
 "metadata": {
  "kernelspec": {
   "display_name": "Python 3",
   "language": "python",
   "name": "python3"
  },
  "language_info": {
   "codemirror_mode": {
    "name": "ipython",
    "version": 3
   },
   "file_extension": ".py",
   "mimetype": "text/x-python",
   "name": "python",
   "nbconvert_exporter": "python",
   "pygments_lexer": "ipython3",
   "version": "3.8.5"
  }
 },
 "nbformat": 4,
 "nbformat_minor": 4
}
