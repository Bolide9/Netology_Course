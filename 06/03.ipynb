{
 "cells": [
  {
   "cell_type": "code",
   "execution_count": 2,
   "metadata": {},
   "outputs": [
    {
     "name": "stdout",
     "output_type": "stream",
     "text": [
      "day is out of range for month\n"
     ]
    },
    {
     "data": {
      "text/plain": [
       "[]"
      ]
     },
     "execution_count": 2,
     "metadata": {},
     "output_type": "execute_result"
    }
   ],
   "source": [
    "import datetime\n",
    "\n",
    "# start_date = '2021-05-01'\n",
    "\n",
    "# end_date = '2021-05-28'\n",
    "\n",
    "\n",
    "def date_range(start_date, end_date):\n",
    "    dates = []\n",
    "    \n",
    "    try:\n",
    "        _start_date = datetime.datetime.strptime(start_date, '%Y-%m-%d')\n",
    "        _end_date = datetime.datetime.strptime(end_date, '%Y-%m-%d')\n",
    "\n",
    "        if start_date > end_date:\n",
    "            return dates\n",
    "\n",
    "        date = _end_date - _start_date\n",
    "\n",
    "        for i in range(date.days + 1):\n",
    "            dates.append(datetime.datetime.strftime(_start_date + datetime.timedelta(days=i), '%Y-%m-%d'))\n",
    "\n",
    "        return dates\n",
    "    except Exception as exp:\n",
    "        print(exp)\n",
    "        return dates\n",
    "\n",
    "\n",
    "date_range('2021-02-30', '2021-02-31')"
   ]
  },
  {
   "cell_type": "code",
   "execution_count": null,
   "metadata": {},
   "outputs": [],
   "source": []
  }
 ],
 "metadata": {
  "kernelspec": {
   "display_name": "Python 3",
   "language": "python",
   "name": "python3"
  },
  "language_info": {
   "codemirror_mode": {
    "name": "ipython",
    "version": 3
   },
   "file_extension": ".py",
   "mimetype": "text/x-python",
   "name": "python",
   "nbconvert_exporter": "python",
   "pygments_lexer": "ipython3",
   "version": "3.8.5"
  }
 },
 "nbformat": 4,
 "nbformat_minor": 4
}
