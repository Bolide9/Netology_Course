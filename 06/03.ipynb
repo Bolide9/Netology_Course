{
 "cells": [
  {
   "cell_type": "code",
   "execution_count": null,
   "metadata": {},
   "outputs": [],
   "source": [
    "import datetime\n",
    "\n",
    "start_date = '2021-04-01'\n",
    "\n",
    "end_date = '2021-05-28'\n",
    "\n",
    "\n",
    "def date_range():\n",
    "    dates = []\n",
    "\n",
    "    _start_date = datetime.datetime.strptime(start_date, '%Y-%m-%d')\n",
    "    _end_date = datetime.datetime.strptime(end_date, '%Y-%m-%d')\n",
    "\n",
    "    if start_date > end_date:\n",
    "        return dates\n",
    "\n",
    "    date = _end_date - _start_date\n",
    "\n",
    "    for i in range(date.days + 1):\n",
    "        print(datetime.datetime.strftime(_start_date + datetime.timedelta(days=i), '%Y-%m-%d'))\n",
    "\n",
    "\n",
    "date_range()"
   ]
  }
 ],
 "metadata": {
  "kernelspec": {
   "display_name": "Python 3",
   "language": "python",
   "name": "python3"
  },
  "language_info": {
   "codemirror_mode": {
    "name": "ipython",
    "version": 3
   },
   "file_extension": ".py",
   "mimetype": "text/x-python",
   "name": "python",
   "nbconvert_exporter": "python",
   "pygments_lexer": "ipython3",
   "version": "3.8.5"
  }
 },
 "nbformat": 4,
 "nbformat_minor": 4
}
