{
 "cells": [
  {
   "cell_type": "code",
   "execution_count": 1,
   "metadata": {},
   "outputs": [
    {
     "name": "stdout",
     "output_type": "stream",
     "text": [
      "2002-10-02 00:00:00\n",
      "2013-11-10 00:00:00\n",
      "1977-08-18 00:00:00\n"
     ]
    }
   ],
   "source": [
    "from datetime import datetime\n",
    "\n",
    "The_Moscow_Times = 'Wednesday, October 2, 2002'\n",
    "The_Guardian = 'Friday, 11.10.13'\n",
    "Daily_News = 'Thursday, 18 August 1977'\n",
    "\n",
    "_date = datetime.strptime(The_Moscow_Times, '%A, %B %d, %Y')\n",
    "\n",
    "# если подразумевается us формат\n",
    "_date2 = datetime.strptime(The_Guardian, '%A, %m.%d.%y')\n",
    "\n",
    "# иначе\n",
    "# _date2 = datetime.strptime(The_Guardian, '%A, %d.%m.%y')\n",
    "\n",
    "_date3 = datetime.strptime(Daily_News, '%A, %d %B %Y')\n",
    "\n",
    "print(_date)\n",
    "print(_date2)\n",
    "print(_date3)"
   ]
  },
  {
   "cell_type": "code",
   "execution_count": null,
   "metadata": {},
   "outputs": [],
   "source": []
  }
 ],
 "metadata": {
  "kernelspec": {
   "display_name": "Python 3",
   "language": "python",
   "name": "python3"
  },
  "language_info": {
   "codemirror_mode": {
    "name": "ipython",
    "version": 3
   },
   "file_extension": ".py",
   "mimetype": "text/x-python",
   "name": "python",
   "nbconvert_exporter": "python",
   "pygments_lexer": "ipython3",
   "version": "3.8.5"
  }
 },
 "nbformat": 4,
 "nbformat_minor": 4
}
